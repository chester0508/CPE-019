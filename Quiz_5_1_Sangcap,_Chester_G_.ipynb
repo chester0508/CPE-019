{
  "nbformat": 4,
  "nbformat_minor": 0,
  "metadata": {
    "colab": {
      "provenance": [],
      "authorship_tag": "ABX9TyNESLriZvgyRPOk8pPY+a6C",
      "include_colab_link": true
    },
    "kernelspec": {
      "name": "python3",
      "display_name": "Python 3"
    },
    "language_info": {
      "name": "python"
    }
  },
  "cells": [
    {
      "cell_type": "markdown",
      "metadata": {
        "id": "view-in-github",
        "colab_type": "text"
      },
      "source": [
        "<a href=\"https://colab.research.google.com/github/chester0508/CPE-019/blob/main/Quiz_5_1_Sangcap%2C_Chester_G_.ipynb\" target=\"_parent\"><img src=\"https://colab.research.google.com/assets/colab-badge.svg\" alt=\"Open In Colab\"/></a>"
      ]
    },
    {
      "cell_type": "markdown",
      "source": [
        "**CHESTER G. SANGCAP**\n",
        "\n",
        "**QUIZ 5.1**\n",
        "\n",
        "\n"
      ],
      "metadata": {
        "id": "Y5OCyLQHZwcN"
      }
    },
    {
      "cell_type": "markdown",
      "source": [
        "1.) Write a Python program using Pandas to count the number of rows and columns of a DataFrame."
      ],
      "metadata": {
        "id": "WskkhB2tZrTl"
      }
    },
    {
      "cell_type": "code",
      "execution_count": 3,
      "metadata": {
        "colab": {
          "base_uri": "https://localhost:8080/"
        },
        "id": "S74k0bpNZg9y",
        "outputId": "dfab56c5-7427-4db3-e8e1-88ee72724870"
      },
      "outputs": [
        {
          "output_type": "stream",
          "name": "stdout",
          "text": [
            "Number of rows and columns:\n",
            "(10, 4)\n"
          ]
        }
      ],
      "source": [
        "import pandas as pd\n",
        "import numpy as np\n",
        "exam_data = {'name': ['Anastasia', 'Dima', 'Katherine', 'James', 'Emily', 'Michael', 'Matthew', 'Laura', 'Kevin', 'Jonas'],\n",
        "'score': [12.5, 9, 16.5, np.nan, 9, 20, 14.5, np.nan, 8, 19],\n",
        "'attempts': [1, 3, 2, 3, 2, 3, 1, 1, 2, 1],\n",
        "'qualify': ['yes', 'no', 'yes', 'no', 'no', 'yes', 'yes', 'no', 'no', 'yes']}\n",
        "labels = ['a', 'b', 'c', 'd', 'e', 'f', 'g', 'h', 'i', 'j']\n",
        "df = pd.DataFrame(exam_data , index=labels)\n",
        "print(\"Number of rows and columns:\")\n",
        "print(df.shape)"
      ]
    }
  ]
}